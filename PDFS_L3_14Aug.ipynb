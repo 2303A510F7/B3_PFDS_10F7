{
  "nbformat": 4,
  "nbformat_minor": 0,
  "metadata": {
    "colab": {
      "provenance": [],
      "authorship_tag": "ABX9TyNYYVaYwdBDiCZcBEQ/DhRv",
      "include_colab_link": true
    },
    "kernelspec": {
      "name": "python3",
      "display_name": "Python 3"
    },
    "language_info": {
      "name": "python"
    }
  },
  "cells": [
    {
      "cell_type": "markdown",
      "metadata": {
        "id": "view-in-github",
        "colab_type": "text"
      },
      "source": [
        "<a href=\"https://colab.research.google.com/github/2303A510F7/B3_PFDS_10F7/blob/main/PDFS_L3_14Aug.ipynb\" target=\"_parent\"><img src=\"https://colab.research.google.com/assets/colab-badge.svg\" alt=\"Open In Colab\"/></a>"
      ]
    },
    {
      "cell_type": "markdown",
      "source": [
        "Matrix Addition and Subtraction"
      ],
      "metadata": {
        "id": "1p_FoLcs3fF5"
      }
    },
    {
      "cell_type": "markdown",
      "source": [
        "Create two 3x3 NumPy arrays with random integers"
      ],
      "metadata": {
        "id": "pR6eAAUB3FEY"
      }
    },
    {
      "cell_type": "code",
      "execution_count": 1,
      "metadata": {
        "colab": {
          "base_uri": "https://localhost:8080/"
        },
        "id": "sIshEeLD1OQq",
        "outputId": "9fb7cde2-175d-481f-eb44-71367033bcf0"
      },
      "outputs": [
        {
          "output_type": "stream",
          "name": "stdout",
          "text": [
            "matrix\n",
            " [[8 0 3]\n",
            " [2 9 4]\n",
            " [0 8 0]]\n",
            "matrix\n",
            " [[3 7 0]\n",
            " [9 3 9]\n",
            " [5 8 0]]\n"
          ]
        }
      ],
      "source": [
        "import numpy as np\n",
        "m1=np.random.randint(10, size=(3,3))\n",
        "m2=np.random.randint(10, size=(3,3))\n",
        "print(\"matrix\\n\",m1)\n",
        "print(\"matrix\\n\",m2)\n"
      ]
    },
    {
      "cell_type": "markdown",
      "source": [
        "Perform element-wise addition and subtraction"
      ],
      "metadata": {
        "id": "pZYAx4A33Hv4"
      }
    },
    {
      "cell_type": "code",
      "source": [
        "sum=m1+m2\n",
        "sub=m1-m2"
      ],
      "metadata": {
        "id": "71svovy92LJB"
      },
      "execution_count": 2,
      "outputs": []
    },
    {
      "cell_type": "markdown",
      "source": [
        "Display original matrices and results\n"
      ],
      "metadata": {
        "id": "T31Y4yg62umZ"
      }
    },
    {
      "cell_type": "code",
      "source": [
        "print(\"original matrix:\",m1)\n",
        "print(\"original matrix:\",m2)\n",
        "print(\"sum\\n\",sum)\n",
        "print(\"sub\\n\",sub)"
      ],
      "metadata": {
        "colab": {
          "base_uri": "https://localhost:8080/"
        },
        "id": "QkboDg8W2UyR",
        "outputId": "2a9284b9-f881-4e88-d7f5-6b85bb4a4f30"
      },
      "execution_count": 3,
      "outputs": [
        {
          "output_type": "stream",
          "name": "stdout",
          "text": [
            "original matrix: [[8 0 3]\n",
            " [2 9 4]\n",
            " [0 8 0]]\n",
            "original matrix: [[3 7 0]\n",
            " [9 3 9]\n",
            " [5 8 0]]\n",
            "sum\n",
            " [[11  7  3]\n",
            " [11 12 13]\n",
            " [ 5 16  0]]\n",
            "sub\n",
            " [[ 5 -7  3]\n",
            " [-7  6 -5]\n",
            " [-5  0  0]]\n"
          ]
        }
      ]
    },
    {
      "cell_type": "markdown",
      "source": [
        "Use functions like np.add() and np.subtract()"
      ],
      "metadata": {
        "id": "Q7XEJr2P3L5Q"
      }
    },
    {
      "cell_type": "code",
      "source": [
        "add=np.add(m1,m2)\n",
        "sub=np.subtract(m1,m2)\n",
        "print(\"add\\n\",add)\n",
        "print(\"sub\\n\",sub)"
      ],
      "metadata": {
        "colab": {
          "base_uri": "https://localhost:8080/"
        },
        "id": "cpGeZUNB3VYJ",
        "outputId": "f1cecb39-d782-4ba0-b62a-da6bf0384e94"
      },
      "execution_count": 4,
      "outputs": [
        {
          "output_type": "stream",
          "name": "stdout",
          "text": [
            "add\n",
            " [[11  7  3]\n",
            " [11 12 13]\n",
            " [ 5 16  0]]\n",
            "sub\n",
            " [[ 5 -7  3]\n",
            " [-7  6 -5]\n",
            " [-5  0  0]]\n"
          ]
        }
      ]
    },
    {
      "cell_type": "markdown",
      "source": [
        "2D Matrix Multiplication (Dot Product)"
      ],
      "metadata": {
        "id": "Wxl8ob8X3nxY"
      }
    },
    {
      "cell_type": "markdown",
      "source": [
        "Create two compatible 2D arrays (e.g., 3x2 and 2x3)"
      ],
      "metadata": {
        "id": "icKanjum3y1Y"
      }
    },
    {
      "cell_type": "code",
      "source": [
        "m1=np.random.randint(10, size=(3,2))\n",
        "m2=np.random.randint(10, size=(2,3))\n",
        "print(\"matrix\\n\",m1)\n",
        "print(\"matrix\\n\",m2)"
      ],
      "metadata": {
        "colab": {
          "base_uri": "https://localhost:8080/"
        },
        "id": "gv3NvKXM3zk4",
        "outputId": "f12b0723-8998-44f3-d296-60afc5fdd6e4"
      },
      "execution_count": 5,
      "outputs": [
        {
          "output_type": "stream",
          "name": "stdout",
          "text": [
            "matrix\n",
            " [[3 9]\n",
            " [7 9]\n",
            " [8 9]]\n",
            "matrix\n",
            " [[1 7 1]\n",
            " [4 2 6]]\n"
          ]
        }
      ]
    },
    {
      "cell_type": "markdown",
      "source": [
        "Use np.dot() or @ operator to perform dot product"
      ],
      "metadata": {
        "id": "XxBRspNS4Bs4"
      }
    },
    {
      "cell_type": "code",
      "source": [
        "dot_product=np.dot(m1,m2)\n",
        "dot_product2=m1@m2"
      ],
      "metadata": {
        "colab": {
          "base_uri": "https://localhost:8080/"
        },
        "id": "GFxj_T1j38Jg",
        "outputId": "9ad23558-8eca-4972-e91c-9f41767d7225"
      },
      "execution_count": 9,
      "outputs": [
        {
          "output_type": "stream",
          "name": "stdout",
          "text": [
            "dot product\n",
            " [[39 39 57]\n",
            " [43 67 61]\n",
            " [44 74 62]]\n",
            "dot product\n",
            " [[39 39 57]\n",
            " [43 67 61]\n",
            " [44 74 62]]\n"
          ]
        }
      ]
    },
    {
      "cell_type": "markdown",
      "source": [
        "Print intermediate and final results"
      ],
      "metadata": {
        "id": "I5KQUmrC5bR4"
      }
    },
    {
      "cell_type": "code",
      "source": [
        "print(\"dot product\\n\",dot_product)\n",
        "print(\"dot product\\n\",dot_product2)"
      ],
      "metadata": {
        "colab": {
          "base_uri": "https://localhost:8080/"
        },
        "id": "D_FDC--a5XY3",
        "outputId": "eb2ebe41-8125-4960-9747-f0848b3532df"
      },
      "execution_count": 10,
      "outputs": [
        {
          "output_type": "stream",
          "name": "stdout",
          "text": [
            "dot product\n",
            " [[39 39 57]\n",
            " [43 67 61]\n",
            " [44 74 62]]\n",
            "dot product\n",
            " [[39 39 57]\n",
            " [43 67 61]\n",
            " [44 74 62]]\n"
          ]
        }
      ]
    },
    {
      "cell_type": "markdown",
      "source": [
        "Simulate use in real-world scenario (e.g., image filters)"
      ],
      "metadata": {
        "id": "JxsWfZAc5jsH"
      }
    },
    {
      "cell_type": "code",
      "source": [
        "image=np.array([[50,100],[150,200],[250,255]])\n",
        "filter_matrix=np.array([[1,0.5,0],[0,0.5,1]])\n",
        "transformed_image=image @ filter_matrix\n",
        "print(\"original images\\n\",image)\n",
        "print(\"transformed images\\n\",transformed_image)"
      ],
      "metadata": {
        "colab": {
          "base_uri": "https://localhost:8080/"
        },
        "id": "VYYr5_wo5kZf",
        "outputId": "8bd707af-5045-4be7-f094-f324b4716711"
      },
      "execution_count": 16,
      "outputs": [
        {
          "output_type": "stream",
          "name": "stdout",
          "text": [
            "original images\n",
            " [[ 50 100]\n",
            " [150 200]\n",
            " [250 255]]\n",
            "transformed images\n",
            " [[ 50.   75.  100. ]\n",
            " [150.  175.  200. ]\n",
            " [250.  252.5 255. ]]\n"
          ]
        }
      ]
    },
    {
      "cell_type": "markdown",
      "source": [
        "Optional: Visualize matrices using matplotlib"
      ],
      "metadata": {
        "id": "Qs9FbL-06cS2"
      }
    },
    {
      "cell_type": "code",
      "source": [
        "import matplotlib.pyplot as plt\n",
        "fig,axs=plt.subplots(1,2,figsize=(6,3))\n",
        "axs[0].imshow(image,cmap=\"grey\")\n",
        "axs[0].set_title(\"original image\")\n",
        "axs[1].imshow(transformed_image,cmap=\"grey\")\n",
        "axs[1].set_title(\"transformed image\")\n",
        "for ax in axs:\n",
        "  ax.axis(\"off\")\n",
        "plt.tight_layout()\n",
        "plt.show()\n",
        "\n"
      ],
      "metadata": {
        "colab": {
          "base_uri": "https://localhost:8080/",
          "height": 307
        },
        "id": "muzaB1Rq6gnI",
        "outputId": "64d1c62b-f1a0-4094-f8b9-e3ae4064a865"
      },
      "execution_count": 18,
      "outputs": [
        {
          "output_type": "display_data",
          "data": {
            "text/plain": [
              "<Figure size 600x300 with 2 Axes>"
            ],
            "image/png": "[encoded data removed]"
          },
          "metadata": {}
        }
      ]
    }
  ]
}