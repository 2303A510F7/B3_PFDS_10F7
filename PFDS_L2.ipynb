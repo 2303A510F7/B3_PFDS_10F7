{
  "nbformat": 4,
  "nbformat_minor": 0,
  "metadata": {
    "colab": {
      "provenance": [],
      "authorship_tag": "ABX9TyPH43FBlltDFJNj9m5FgGNh",
      "include_colab_link": true
    },
    "kernelspec": {
      "name": "python3",
      "display_name": "Python 3"
    },
    "language_info": {
      "name": "python"
    }
  },
  "cells": [
    {
      "cell_type": "markdown",
      "metadata": {
        "id": "view-in-github",
        "colab_type": "text"
      },
      "source": [
        "<a href=\"https://colab.research.google.com/github/2303A510F7/B3_PFDS_10F7/blob/main/PFDS_L2.ipynb\" target=\"_parent\"><img src=\"https://colab.research.google.com/assets/colab-badge.svg\" alt=\"Open In Colab\"/></a>"
      ]
    },
    {
      "cell_type": "code",
      "execution_count": 1,
      "metadata": {
        "id": "H_u7hr4CEJ1b"
      },
      "outputs": [],
      "source": [
        "import numpy as np"
      ]
    },
    {
      "cell_type": "markdown",
      "source": [
        "Create a 2D NumPy array for student marks in 3 subjects"
      ],
      "metadata": {
        "id": "88_e2STD6oAy"
      }
    },
    {
      "cell_type": "code",
      "source": [
        "arr=np.array([[98,99,97],[89,87,94],[79,89,86]])\n",
        "print(arr)"
      ],
      "metadata": {
        "colab": {
          "base_uri": "https://localhost:8080/"
        },
        "id": "v4c1swveE4lZ",
        "outputId": "bac98c71-5646-49a4-9451-db9df93ee0c5"
      },
      "execution_count": 2,
      "outputs": [
        {
          "output_type": "stream",
          "name": "stdout",
          "text": [
            "[[98 99 97]\n",
            " [89 87 94]\n",
            " [79 89 86]]\n"
          ]
        }
      ]
    },
    {
      "cell_type": "code",
      "source": [
        "for i in range(0,3):\n",
        "  print(arr[i])\n"
      ],
      "metadata": {
        "colab": {
          "base_uri": "https://localhost:8080/"
        },
        "id": "DBeV4djIFwfo",
        "outputId": "35e5467b-6f3a-4c33-de28-065e9214c400"
      },
      "execution_count": 3,
      "outputs": [
        {
          "output_type": "stream",
          "name": "stdout",
          "text": [
            "[98 99 97]\n",
            "[89 87 94]\n",
            "[79 89 86]\n"
          ]
        }
      ]
    },
    {
      "cell_type": "markdown",
      "source": [
        "Calculate average, minimum, and maximum marks"
      ],
      "metadata": {
        "id": "k2SZdA6Q75Ws"
      }
    },
    {
      "cell_type": "code",
      "source": [
        "#Among all students\n",
        "total_avg=np.mean(arr)\n",
        "print(total_avg)\n",
        "maxi=np.max(arr)\n",
        "print(maxi)\n",
        "mini=np.min(arr)\n",
        "print(mini)"
      ],
      "metadata": {
        "colab": {
          "base_uri": "https://localhost:8080/"
        },
        "id": "m93l0J6vHjGY",
        "outputId": "fc73f9b0-9164-439a-9007-0c14e8c3ca98"
      },
      "execution_count": 4,
      "outputs": [
        {
          "output_type": "stream",
          "name": "stdout",
          "text": [
            "90.88888888888889\n",
            "99\n",
            "79\n"
          ]
        }
      ]
    },
    {
      "cell_type": "code",
      "source": [
        "#for each student\n",
        "average_per_student = np.mean(arr, axis=1)\n",
        "min_per_student = np.min(arr, axis=1)\n",
        "max_per_student = np.max(arr, axis=1)\n",
        "for i in range(len(arr)):\n",
        "    print(f\"Student {i+1}: Marks = {arr[i]}, Avg = {average_per_student[i]:.2f}, Min = {min_per_student[i]}, Max = {max_per_student[i]}\")"
      ],
      "metadata": {
        "colab": {
          "base_uri": "https://localhost:8080/"
        },
        "id": "Pj31TbtIFwdA",
        "outputId": "53e96fbf-4b7d-4761-ef0e-93851b3a57d9"
      },
      "execution_count": 5,
      "outputs": [
        {
          "output_type": "stream",
          "name": "stdout",
          "text": [
            "Student 1: Marks = [98 99 97], Avg = 98.00, Min = 97, Max = 99\n",
            "Student 2: Marks = [89 87 94], Avg = 90.00, Min = 87, Max = 94\n",
            "Student 3: Marks = [79 89 86], Avg = 84.67, Min = 79, Max = 89\n"
          ]
        }
      ]
    },
    {
      "cell_type": "markdown",
      "source": [
        "Use slicing to retrieve marks of specific students"
      ],
      "metadata": {
        "id": "uPg5-eDb8IBw"
      }
    },
    {
      "cell_type": "code",
      "source": [
        "print(\"\\nMarks of Student 2:\\n\", arr[1:2])"
      ],
      "metadata": {
        "colab": {
          "base_uri": "https://localhost:8080/"
        },
        "id": "x4OCX7wyLLgY",
        "outputId": "a7953911-6d78-4b52-a420-16feacbd7108"
      },
      "execution_count": 6,
      "outputs": [
        {
          "output_type": "stream",
          "name": "stdout",
          "text": [
            "\n",
            "Marks of Student 2:\n",
            " [[89 87 94]]\n"
          ]
        }
      ]
    },
    {
      "cell_type": "markdown",
      "source": [
        "Use boolean indexing to find students scoring above 80"
      ],
      "metadata": {
        "id": "J4khcIEL8Nmk"
      }
    },
    {
      "cell_type": "code",
      "source": [
        "above_80 = arr > 80\n",
        "print(\"\\n Boolean Array (Scores > 80):\\n\", above_80)"
      ],
      "metadata": {
        "colab": {
          "base_uri": "https://localhost:8080/"
        },
        "id": "Z3PqJFIKLmff",
        "outputId": "c9cc9448-b792-4bfc-9a7c-140ea53e64dd"
      },
      "execution_count": 7,
      "outputs": [
        {
          "output_type": "stream",
          "name": "stdout",
          "text": [
            "\n",
            " Boolean Array (Scores > 80):\n",
            " [[ True  True  True]\n",
            " [ True  True  True]\n",
            " [False  True  True]]\n"
          ]
        }
      ]
    },
    {
      "cell_type": "markdown",
      "source": [
        "Reshape the array to observe subject-wise performance"
      ],
      "metadata": {
        "id": "pMKaTbTN8Un1"
      }
    },
    {
      "cell_type": "code",
      "source": [
        "subject_wise=arr.T\n",
        "print(\"\\n subject_wise performance (Rows = subjects):\\n\",subject_wise)"
      ],
      "metadata": {
        "colab": {
          "base_uri": "https://localhost:8080/"
        },
        "id": "m2cWrsoBFwaI",
        "outputId": "4afb2c94-7060-46e5-a775-14dd08143466"
      },
      "execution_count": 8,
      "outputs": [
        {
          "output_type": "stream",
          "name": "stdout",
          "text": [
            "\n",
            " subject_wise performance (Rows = subjects):\n",
            " [[98 89 79]\n",
            " [99 87 89]\n",
            " [97 94 86]]\n"
          ]
        }
      ]
    }
  ]
}